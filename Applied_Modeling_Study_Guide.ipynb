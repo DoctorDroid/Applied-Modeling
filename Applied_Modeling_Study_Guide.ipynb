{
  "nbformat": 4,
  "nbformat_minor": 0,
  "metadata": {
    "colab": {
      "name": "Copy of Unit 2 Sprint 3 - Applied Modeling - Study Guide.ipynb",
      "provenance": [],
      "collapsed_sections": []
    },
    "kernelspec": {
      "name": "python3",
      "display_name": "Python 3"
    }
  },
  "cells": [
    {
      "cell_type": "markdown",
      "metadata": {
        "id": "Nd2OOOVXxXS1",
        "colab_type": "text"
      },
      "source": [
        "This study guide should reinforce and provide practice for all of the concepts you have seen in the past week. There are a mix of written questions and coding exercises, both are equally important to prepare you for the sprint challenge as well as to be able to speak on these topics comfortably in interviews and on the job.\n",
        "\n",
        "If you get stuck or are unsure of something remember the 20 minute rule. If that doesn't help, then research a solution with google and stackoverflow. Only once you have exausted these methods should you turn to your Team Lead - they won't be there on your SC or during an interview. That being said, don't hesitate to ask for help if you truly are stuck.\n",
        "\n",
        "Have fun studying!"
      ]
    },
    {
      "cell_type": "markdown",
      "metadata": {
        "id": "YbwATE4qeJx7",
        "colab_type": "text"
      },
      "source": [
        "# Applied Modeling"
      ]
    },
    {
      "cell_type": "markdown",
      "metadata": {
        "id": "fpvInKdXekFi",
        "colab_type": "text"
      },
      "source": [
        "## Questions"
      ]
    },
    {
      "cell_type": "markdown",
      "metadata": {
        "id": "Q6bS8AhBZ86H",
        "colab_type": "text"
      },
      "source": [
        "When completing this section, try to limit your answers to 2-3 sentences max and use plain english as much as possible. It's very easy to hide incomplete knowledge and understanding behind fancy or technical words, so imagine you are explaining these things to a non-technical interviewer.\n",
        "\n",
        "1. What is a Catagorical Feature\n",
        "```\n",
        "A categorical feature is a feature(column) that is made of categorical variables like age or time period\n",
        "```\n",
        "\n",
        "2. What are Confusion Matrix?\n",
        "```\n",
        "Confusion matrices are tables used to analyze accuracy of classification models\n",
        "```\n",
        "\n",
        "3. What is Permutation Importances?\n",
        "```\n",
        "Permutation Importances is another way to compute feature importance by calculating how much a feature impacts a model\n",
        "```\n",
        "\n",
        "4. What is feature isolation?\n",
        "```\n",
        "Feature isolation is working with individual features to determine impact on the model while holding all other values constant\n",
        "```\n",
        "\n",
        "5. What is features interaction?\n",
        "```\n",
        "features interaction takes place when features influence the behavior of other features\n",
        "```\n",
        "\n",
        "6. What is Shapley Values?\n",
        "```\n",
        "a look into the \"black box\" of mystery that reveals the numerical contribution each feature adds to the final prediction of a single observation\n",
        "```\n",
        "\n",
        "7. How do you get ROC AUC score??\n",
        "```\n",
        "this is calculated with a built in function of SciKit Learn's Metrics module passing in the y_true and predicted probabilities of the test or validation set.\n",
        "```\n"
      ]
    },
    {
      "cell_type": "markdown",
      "metadata": {
        "id": "dUQaIwbceohq",
        "colab_type": "text"
      },
      "source": [
        "## Practice Problems Choose a dataset of your own to fill this out."
      ]
    },
    {
      "cell_type": "markdown",
      "metadata": {
        "id": "gzQyr1iPfJBH",
        "colab_type": "text"
      },
      "source": [
        "Preprocessing\n",
        "You may choose which features you want to use, and whether/how you will preprocess them."
      ]
    },
    {
      "cell_type": "code",
      "metadata": {
        "id": "e5hj6Jjwen3J",
        "colab_type": "code",
        "colab": {}
      },
      "source": [
        "import pandas as pd\n",
        "L = pd.read_csv('Landslides.csv')"
      ],
      "execution_count": null,
      "outputs": []
    },
    {
      "cell_type": "code",
      "metadata": {
        "id": "kxgJk-v63t4Q",
        "colab_type": "code",
        "colab": {}
      },
      "source": [
        ""
      ],
      "execution_count": null,
      "outputs": []
    },
    {
      "cell_type": "markdown",
      "metadata": {
        "id": "rq6bizULj6YF",
        "colab_type": "text"
      },
      "source": [
        "Fit a model with the train set. Use your model to predict probabilities for the test set."
      ]
    },
    {
      "cell_type": "code",
      "metadata": {
        "id": "1jSaglmDkEZ7",
        "colab_type": "code",
        "colab": {}
      },
      "source": [
        ""
      ],
      "execution_count": null,
      "outputs": []
    },
    {
      "cell_type": "markdown",
      "metadata": {
        "id": "i2dHVZXjhlJS",
        "colab_type": "text"
      },
      "source": [
        "Get your model's validation accuracy. \n",
        "Get your model's test accuracy. \n",
        "Make visualizations for model interpretation."
      ]
    },
    {
      "cell_type": "code",
      "metadata": {
        "id": "bnt4a3p9ZYFz",
        "colab_type": "code",
        "colab": {}
      },
      "source": [
        ""
      ],
      "execution_count": null,
      "outputs": []
    },
    {
      "cell_type": "markdown",
      "metadata": {
        "id": "ijwt2MNXmONV",
        "colab_type": "text"
      },
      "source": [
        "## what to study"
      ]
    },
    {
      "cell_type": "markdown",
      "metadata": {
        "id": "pcvFMpPy9cul",
        "colab_type": "text"
      },
      "source": [
        "# 1) Preprocessing\n",
        "# 2) Modeling\n",
        "# 3) Visualization\n",
        "# 4) Confusion Matrix\n",
        "# 5) permutation Importances\n",
        "# 6) Partial Dependence Plot\n",
        "# 7) feature isolation\n",
        "# 8) Shapley Values\n",
        "# 9) ROC AUC validation score\n",
        "# 10) categorical features\n",
        "# 11) encoding\n"
      ]
    },
    {
      "cell_type": "code",
      "metadata": {
        "id": "xEfKdJQi_Eew",
        "colab_type": "code",
        "colab": {}
      },
      "source": [
        ""
      ],
      "execution_count": null,
      "outputs": []
    }
  ]
}